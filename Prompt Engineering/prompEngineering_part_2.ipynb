{
  "nbformat": 4,
  "nbformat_minor": 0,
  "metadata": {
    "colab": {
      "provenance": []
    },
    "kernelspec": {
      "name": "python3",
      "display_name": "Python 3"
    },
    "language_info": {
      "name": "python"
    }
  },
  "cells": [
    {
      "cell_type": "code",
      "execution_count": 1,
      "metadata": {
        "colab": {
          "base_uri": "https://localhost:8080/"
        },
        "id": "dY8rAOJ3jAwV",
        "outputId": "a0da2ca3-0045-4920-dbf7-fbf164561bce"
      },
      "outputs": [
        {
          "output_type": "stream",
          "name": "stdout",
          "text": [
            "\u001b[2K     \u001b[90m━━━━━━━━━━━━━━━━━━━━━━━━━━━━━━━━━━━━━━━━\u001b[0m \u001b[32m76.5/76.5 kB\u001b[0m \u001b[31m2.2 MB/s\u001b[0m eta \u001b[36m0:00:00\u001b[0m\n",
            "\u001b[2K     \u001b[90m━━━━━━━━━━━━━━━━━━━━━━━━━━━━━━━━━━━━━━━━\u001b[0m \u001b[32m803.6/803.6 kB\u001b[0m \u001b[31m18.3 MB/s\u001b[0m eta \u001b[36m0:00:00\u001b[0m\n",
            "\u001b[?25h  Preparing metadata (setup.py) ... \u001b[?25l\u001b[?25hdone\n",
            "\u001b[2K     \u001b[90m━━━━━━━━━━━━━━━━━━━━━━━━━━━━━━━━━━━━━━━━\u001b[0m \u001b[32m509.0/509.0 kB\u001b[0m \u001b[31m37.6 MB/s\u001b[0m eta \u001b[36m0:00:00\u001b[0m\n",
            "\u001b[2K     \u001b[90m━━━━━━━━━━━━━━━━━━━━━━━━━━━━━━━━━━━━━━━━\u001b[0m \u001b[32m2.0/2.0 MB\u001b[0m \u001b[31m50.7 MB/s\u001b[0m eta \u001b[36m0:00:00\u001b[0m\n",
            "\u001b[2K     \u001b[90m━━━━━━━━━━━━━━━━━━━━━━━━━━━━━━━━━━━━━━━━\u001b[0m \u001b[32m1.6/1.6 MB\u001b[0m \u001b[31m68.4 MB/s\u001b[0m eta \u001b[36m0:00:00\u001b[0m\n",
            "\u001b[2K     \u001b[90m━━━━━━━━━━━━━━━━━━━━━━━━━━━━━━━━━━━━━━━━\u001b[0m \u001b[32m235.9/235.9 kB\u001b[0m \u001b[31m24.4 MB/s\u001b[0m eta \u001b[36m0:00:00\u001b[0m\n",
            "\u001b[2K     \u001b[90m━━━━━━━━━━━━━━━━━━━━━━━━━━━━━━━━━━━━━━━━\u001b[0m \u001b[32m54.0/54.0 kB\u001b[0m \u001b[31m5.3 MB/s\u001b[0m eta \u001b[36m0:00:00\u001b[0m\n",
            "\u001b[2K     \u001b[90m━━━━━━━━━━━━━━━━━━━━━━━━━━━━━━━━━━━━━━━━\u001b[0m \u001b[32m2.4/2.4 MB\u001b[0m \u001b[31m77.4 MB/s\u001b[0m eta \u001b[36m0:00:00\u001b[0m\n",
            "\u001b[2K     \u001b[90m━━━━━━━━━━━━━━━━━━━━━━━━━━━━━━━━━━━━━━━━\u001b[0m \u001b[32m92.0/92.0 kB\u001b[0m \u001b[31m11.0 MB/s\u001b[0m eta \u001b[36m0:00:00\u001b[0m\n",
            "\u001b[2K     \u001b[90m━━━━━━━━━━━━━━━━━━━━━━━━━━━━━━━━━━━━━━━━\u001b[0m \u001b[32m60.7/60.7 kB\u001b[0m \u001b[31m7.0 MB/s\u001b[0m eta \u001b[36m0:00:00\u001b[0m\n",
            "\u001b[2K     \u001b[90m━━━━━━━━━━━━━━━━━━━━━━━━━━━━━━━━━━━━━━━━\u001b[0m \u001b[32m40.8/40.8 kB\u001b[0m \u001b[31m4.4 MB/s\u001b[0m eta \u001b[36m0:00:00\u001b[0m\n",
            "\u001b[2K     \u001b[90m━━━━━━━━━━━━━━━━━━━━━━━━━━━━━━━━━━━━━━━━\u001b[0m \u001b[32m5.4/5.4 MB\u001b[0m \u001b[31m88.3 MB/s\u001b[0m eta \u001b[36m0:00:00\u001b[0m\n",
            "\u001b[2K     \u001b[90m━━━━━━━━━━━━━━━━━━━━━━━━━━━━━━━━━━━━━━━━\u001b[0m \u001b[32m6.8/6.8 MB\u001b[0m \u001b[31m45.4 MB/s\u001b[0m eta \u001b[36m0:00:00\u001b[0m\n",
            "\u001b[2K     \u001b[90m━━━━━━━━━━━━━━━━━━━━━━━━━━━━━━━━━━━━━━━━\u001b[0m \u001b[32m57.9/57.9 kB\u001b[0m \u001b[31m4.8 MB/s\u001b[0m eta \u001b[36m0:00:00\u001b[0m\n",
            "\u001b[2K     \u001b[90m━━━━━━━━━━━━━━━━━━━━━━━━━━━━━━━━━━━━━━━━\u001b[0m \u001b[32m105.6/105.6 kB\u001b[0m \u001b[31m7.5 MB/s\u001b[0m eta \u001b[36m0:00:00\u001b[0m\n",
            "\u001b[2K     \u001b[90m━━━━━━━━━━━━━━━━━━━━━━━━━━━━━━━━━━━━━━━━\u001b[0m \u001b[32m67.3/67.3 kB\u001b[0m \u001b[31m7.2 MB/s\u001b[0m eta \u001b[36m0:00:00\u001b[0m\n",
            "\u001b[?25h  Installing build dependencies ... \u001b[?25l\u001b[?25hdone\n",
            "  Getting requirements to build wheel ... \u001b[?25l\u001b[?25hdone\n",
            "  Preparing metadata (pyproject.toml) ... \u001b[?25l\u001b[?25hdone\n",
            "\u001b[2K     \u001b[90m━━━━━━━━━━━━━━━━━━━━━━━━━━━━━━━━━━━━━━━━\u001b[0m \u001b[32m698.9/698.9 kB\u001b[0m \u001b[31m48.7 MB/s\u001b[0m eta \u001b[36m0:00:00\u001b[0m\n",
            "\u001b[2K     \u001b[90m━━━━━━━━━━━━━━━━━━━━━━━━━━━━━━━━━━━━━━━━\u001b[0m \u001b[32m1.6/1.6 MB\u001b[0m \u001b[31m79.0 MB/s\u001b[0m eta \u001b[36m0:00:00\u001b[0m\n",
            "\u001b[2K     \u001b[90m━━━━━━━━━━━━━━━━━━━━━━━━━━━━━━━━━━━━━━━━\u001b[0m \u001b[32m67.6/67.6 kB\u001b[0m \u001b[31m8.0 MB/s\u001b[0m eta \u001b[36m0:00:00\u001b[0m\n",
            "\u001b[2K     \u001b[90m━━━━━━━━━━━━━━━━━━━━━━━━━━━━━━━━━━━━━━━━\u001b[0m \u001b[32m49.4/49.4 kB\u001b[0m \u001b[31m5.3 MB/s\u001b[0m eta \u001b[36m0:00:00\u001b[0m\n",
            "\u001b[2K     \u001b[90m━━━━━━━━━━━━━━━━━━━━━━━━━━━━━━━━━━━━━━━━\u001b[0m \u001b[32m71.1/71.1 kB\u001b[0m \u001b[31m8.6 MB/s\u001b[0m eta \u001b[36m0:00:00\u001b[0m\n",
            "\u001b[2K     \u001b[90m━━━━━━━━━━━━━━━━━━━━━━━━━━━━━━━━━━━━━━━━\u001b[0m \u001b[32m46.0/46.0 kB\u001b[0m \u001b[31m5.4 MB/s\u001b[0m eta \u001b[36m0:00:00\u001b[0m\n",
            "\u001b[2K     \u001b[90m━━━━━━━━━━━━━━━━━━━━━━━━━━━━━━━━━━━━━━━━\u001b[0m \u001b[32m50.8/50.8 kB\u001b[0m \u001b[31m5.6 MB/s\u001b[0m eta \u001b[36m0:00:00\u001b[0m\n",
            "\u001b[2K     \u001b[90m━━━━━━━━━━━━━━━━━━━━━━━━━━━━━━━━━━━━━━━━\u001b[0m \u001b[32m58.3/58.3 kB\u001b[0m \u001b[31m7.2 MB/s\u001b[0m eta \u001b[36m0:00:00\u001b[0m\n",
            "\u001b[2K     \u001b[90m━━━━━━━━━━━━━━━━━━━━━━━━━━━━━━━━━━━━━━━━\u001b[0m \u001b[32m341.4/341.4 kB\u001b[0m \u001b[31m33.2 MB/s\u001b[0m eta \u001b[36m0:00:00\u001b[0m\n",
            "\u001b[2K     \u001b[90m━━━━━━━━━━━━━━━━━━━━━━━━━━━━━━━━━━━━━━━━\u001b[0m \u001b[32m3.4/3.4 MB\u001b[0m \u001b[31m88.5 MB/s\u001b[0m eta \u001b[36m0:00:00\u001b[0m\n",
            "\u001b[2K     \u001b[90m━━━━━━━━━━━━━━━━━━━━━━━━━━━━━━━━━━━━━━━━\u001b[0m \u001b[32m1.3/1.3 MB\u001b[0m \u001b[31m12.2 MB/s\u001b[0m eta \u001b[36m0:00:00\u001b[0m\n",
            "\u001b[2K     \u001b[90m━━━━━━━━━━━━━━━━━━━━━━━━━━━━━━━━━━━━━━━━\u001b[0m \u001b[32m130.2/130.2 kB\u001b[0m \u001b[31m12.8 MB/s\u001b[0m eta \u001b[36m0:00:00\u001b[0m\n",
            "\u001b[2K     \u001b[90m━━━━━━━━━━━━━━━━━━━━━━━━━━━━━━━━━━━━━━━━\u001b[0m \u001b[32m86.8/86.8 kB\u001b[0m \u001b[31m6.9 MB/s\u001b[0m eta \u001b[36m0:00:00\u001b[0m\n",
            "\u001b[?25h  Building wheel for google-search-results (setup.py) ... \u001b[?25l\u001b[?25hdone\n",
            "  Building wheel for pypika (pyproject.toml) ... \u001b[?25l\u001b[?25hdone\n",
            "\u001b[31mERROR: pip's dependency resolver does not currently take into account all the packages that are installed. This behaviour is the source of the following dependency conflicts.\n",
            "lida 0.0.10 requires kaleido, which is not installed.\n",
            "lida 0.0.10 requires python-multipart, which is not installed.\n",
            "llmx 0.0.15a0 requires cohere, which is not installed.\n",
            "tensorflow-probability 0.22.0 requires typing-extensions<4.6.0, but you have typing-extensions 4.9.0 which is incompatible.\u001b[0m\u001b[31m\n",
            "\u001b[0m"
          ]
        }
      ],
      "source": [
        "!pip install -q openai==0.28 langchain google-search-results chromadb tiktoken"
      ]
    },
    {
      "cell_type": "code",
      "source": [
        "import openai\n",
        "import os\n",
        "import IPython\n",
        "\n",
        "openai.api_key = \"sk-\""
      ],
      "metadata": {
        "id": "JM_4szl1lyQc"
      },
      "execution_count": 2,
      "outputs": []
    },
    {
      "cell_type": "code",
      "source": [
        "def get_completion(messages, model=\"gpt-3.5-turbo\", temperature=0, max_tokens=300):\n",
        "    response = openai.ChatCompletion.create(\n",
        "        model=model,\n",
        "        messages=messages,\n",
        "        temperature=temperature,\n",
        "        max_tokens=max_tokens,\n",
        "    )\n",
        "    return response.choices[0].message[\"content\"]"
      ],
      "metadata": {
        "id": "mlg_K-2WmkQ9"
      },
      "execution_count": 3,
      "outputs": []
    },
    {
      "cell_type": "markdown",
      "source": [
        "Few-shot In-Context Learning"
      ],
      "metadata": {
        "id": "-UyxqMJlmolt"
      }
    },
    {
      "cell_type": "code",
      "source": [
        "prompt = \"\"\"Your task is to classify an input text (delimited by ```) as either offensive or non-offensive.\n",
        "\n",
        "Use the following examples to help with steering your responses:\n",
        "\n",
        "Text: I love you\n",
        "Output: non-offensive\n",
        "\n",
        "Text: I dislike all those people working at the company\n",
        "Output: offensive\n",
        "\n",
        "Text: I think this feature is not ideal\n",
        "Output: non-offensive\n",
        "\n",
        "Text: Those people are so stupid\n",
        "Output: offensive\n",
        "\n",
        "Text: {user_input}\n",
        "Output:\n",
        "\"\"\"\n",
        "\n",
        "message = [\n",
        "    {\n",
        "        \"role\": \"user\",\n",
        "        \"content\": prompt.format(user_input=\"```I respectfully disagree with your opinion.```\")\n",
        "    }\n",
        "]\n",
        "\n",
        "response = get_completion(message)\n",
        "print(response)"
      ],
      "metadata": {
        "colab": {
          "base_uri": "https://localhost:8080/"
        },
        "id": "gqtVev-Vmsc8",
        "outputId": "97f199ed-33cc-411a-e3c2-d20cbbcfeb9c"
      },
      "execution_count": 4,
      "outputs": [
        {
          "output_type": "stream",
          "name": "stdout",
          "text": [
            "non-offensive\n"
          ]
        }
      ]
    },
    {
      "cell_type": "markdown",
      "source": [
        "Chain-of-Though (CoT) Prompting"
      ],
      "metadata": {
        "id": "Z3aIP6KanF9D"
      }
    },
    {
      "cell_type": "code",
      "source": [
        "movies = \"\"\"\n",
        "The Enigma Code\n",
        "Category: Historical Drama\n",
        "Rating: 8.3/10\n",
        "Description: Set during World War II, this gripping historical drama follows the life of Alan Turing, a brilliant mathematician tasked with cracking the Enigma code used by the Nazis. His efforts contribute significantly to the Allies' victory.\n",
        "Actors: Benedict Cumberbatch, Keira Knightley, Matthew Goode\n",
        "Language: English\n",
        "Release Date: March 15, 2014\n",
        "Award Winner: Academy Award for Best Adapted Screenplay\n",
        "\n",
        "Shadows of the Samurai\n",
        "Category: Action/Adventure\n",
        "Rating: 7.9/10\n",
        "Description: In feudal Japan, a skilled samurai seeks vengeance against the corrupt warlord who murdered his master. With his swordsmanship and determination, he embarks on a dangerous journey to restore justice.\n",
        "Actors: Ken Watanabe, Tadanobu Asano, Rinko Kikuchi\n",
        "Language: Japanese\n",
        "Release Date: November 7, 2017\n",
        "Award Winner: None\n",
        "\n",
        "Mind Games\n",
        "Category: Psychological Thriller\n",
        "Rating: 8.1/10\n",
        "Description: A renowned psychologist becomes entangled in a twisted game of cat and mouse with a patient who harbors dark secrets. As their sessions progress, the lines between reality and deception blur, leading to a mind-bending climax.\n",
        "Actors: Leonardo DiCaprio, Natalie Portman, Michael Fassbender\n",
        "Language: English\n",
        "Release Date: August 22, 2019\n",
        "Award Winner: None\n",
        "\n",
        "La Casa del Tango\n",
        "Category: Musical/Drama\n",
        "Rating: 8.7/10\n",
        "Description: In the vibrant world of Buenos Aires, a passionate tango dancer finds love and inspiration amidst the backdrop of political unrest. This musical drama explores the power of dance and the pursuit of dreams.\n",
        "Actors: Antonio Banderas, Penélope Cruz, Javier Bardem\n",
        "Language: Spanish\n",
        "Release Date: June 5, 2020\n",
        "Award Winner: Golden Globe for Best Foreign Language Film\n",
        "\n",
        "Timeless Love\n",
        "Category: Romance/Fantasy\n",
        "Rating: 7.5/10\n",
        "Description: A magical encounter transports a modern-day writer back in time to Victorian England, where she falls in love with a charming aristocrat. As they navigate the complexities of time, their love is put to the ultimate test.\n",
        "Actors: Rachel McAdams, Tom Hiddleston, Emma Thompson\n",
        "Language: English\n",
        "Release Date: February 14, 2022\n",
        "Award Winner: None\n",
        "\n",
        "The Pursuit of Justice\n",
        "Category: Legal Drama\n",
        "Rating: 8.4/10\n",
        "Description: Inspired by true events, this gripping legal drama follows a determined lawyer's fight against a powerful pharmaceutical company responsible for a life-threatening drug. The courtroom battle becomes a quest for justice and redemption.\n",
        "Actors: Denzel Washington, Viola Davis, Michael B. Jordan\n",
        "Language: English\n",
        "Release Date: October 10, 2022\n",
        "Award Winner: None\n",
        "\n",
        "The Forgotten Island\n",
        "Category: Adventure/Mystery\n",
        "Rating: 7.6/10\n",
        "Description: A group of explorers stumbles upon a mysterious island believed to be uninhabited. As they uncover the island's secrets, they encounter deadly challenges and unravel an ancient civilization's enigma.\n",
        "Actors: Chris Pratt, Bryce Dallas Howard, Tom Holland\n",
        "Language: English\n",
        "Release Date: July 2, 2023\n",
        "Award Winner: None\n",
        "\n",
        "The Silent Witness\n",
        "Category: Crime/Thriller\n",
        "Rating: 8.2/10\n",
        "Description: A talented forensic pathologist becomes entangled in a high-stakes murder investigation when she discovers crucial evidence that points to a powerful criminal network. With her life on the line, she must outsmart the perpetrators.\n",
        "Actors: Emily Blunt, Jake Gyllenhaal, Mark Ruffalo\n",
        "Language: English\n",
        "Release Date: November 18, 2023\n",
        "Award Winner: None\n",
        "\n",
        "A Tale of Two Worlds\n",
        "Category: Fantasy/Adventure\n",
        "Rating: 7.8/10\n",
        "Description: When a young orphan discovers a magical portal to a parallel universe, she embarks on a thrilling adventure to save both realms from an impending disaster. Along the way, she learns about the power of friendship and self-belief.\n",
        "Actors: Millie Bobby Brown, Tom Holland, Helena Bonham Carter\n",
        "Language: English\n",
        "Release Date: April 5, 2024\n",
        "Award Winner: None\n",
        "\n",
        "A Symphony of Souls\n",
        "Category: Music/Drama\n",
        "Rating: 9.0/10\n",
        "Description: Set against the backdrop of a renowned symphony orchestra, this emotionally charged drama explores the lives and intertwining stories of its members. Through the power of music, they find solace, love, and redemption.\n",
        "Actors: Meryl Streep, Tom Hanks, Cate Blanchett\n",
        "Language: English\n",
        "Release Date: December 25, 2024\n",
        "Award Winner: None\n",
        "\"\"\""
      ],
      "metadata": {
        "id": "GfzOKbtEnGgZ"
      },
      "execution_count": 5,
      "outputs": []
    },
    {
      "cell_type": "code",
      "source": [
        "system_message = \"\"\"\n",
        "You task is to make movie recommendations based on a user request (delimited by ```).\n",
        "\n",
        "Step 1: Check if the user is asking about movies. If the user is not asking about movies, just respond \"Please ask something about movies!\".\n",
        "\n",
        "Step 2: If the user is asking for a movie recommendation, check if they have any specific requests or interests.\n",
        "\n",
        "Step 3: Check if there are any movie/s we can recommend from the following: {movies}\n",
        "\n",
        "Step 4: Prepare a response to the user with the movie recommendation/s. The recommendation have to be about movies that are available in the list above. The response needs to have a friendly and helpful tone.\n",
        "\n",
        "Return a response with the following reasoning steps and final output to the user:\n",
        "Step 1: <Step 1 reasoning>\n",
        "Step 2: <Step 2 reasoning>\n",
        "Step 3: <Step 3 reasoning>\n",
        "Step 4: <final response>\n",
        "\"\"\"\n",
        "\n",
        "messages = [\n",
        "    {\n",
        "        \"role\": \"system\",\n",
        "        \"content\": system_message.format(movies=movies)\n",
        "    },\n",
        "    {\n",
        "        \"role\": \"user\",\n",
        "        \"content\": \"```Do you have any drama movies?```\"\n",
        "    }\n",
        "]\n",
        "\n",
        "movie_recommendation_response = get_completion(messages, temperature=0, max_tokens=500)\n",
        "\n",
        "print(movie_recommendation_response)"
      ],
      "metadata": {
        "colab": {
          "base_uri": "https://localhost:8080/"
        },
        "id": "kt4U7UheoA6b",
        "outputId": "fcafc7a7-d657-4680-a0b9-36e64be7757d"
      },
      "execution_count": 7,
      "outputs": [
        {
          "output_type": "stream",
          "name": "stdout",
          "text": [
            "Step 1: The user is asking about movies.\n",
            "\n",
            "Step 2: The user is specifically asking for drama movies.\n",
            "\n",
            "Step 3: We have several drama movies available:\n",
            "\n",
            "1. The Enigma Code - Category: Historical Drama, Rating: 8.3/10, Release Date: March 15, 2014\n",
            "2. La Casa del Tango - Category: Musical/Drama, Rating: 8.7/10, Release Date: June 5, 2020\n",
            "3. The Pursuit of Justice - Category: Legal Drama, Rating: 8.4/10, Release Date: October 10, 2022\n",
            "4. The Silent Witness - Category: Crime/Thriller, Rating: 8.2/10, Release Date: November 18, 2023\n",
            "5. A Symphony of Souls - Category: Music/Drama, Rating: 9.0/10, Release Date: December 25, 2024\n",
            "\n",
            "Step 4: Based on your request for drama movies, I recommend the following options:\n",
            "- The Enigma Code: Set during World War II, this gripping historical drama follows the life of Alan Turing, a brilliant mathematician tasked with cracking the Enigma code used by the Nazis. His efforts contribute significantly to the Allies' victory. Starring Benedict Cumberbatch, Keira Knightley, and Matthew Goode.\n",
            "- La Casa del Tango: In the vibrant world of Buenos Aires, a passionate tango dancer finds love and inspiration amidst the backdrop of political unrest. This musical drama explores the power of dance and the pursuit of dreams. Starring Antonio Banderas, Penélope Cruz, and Javier Bardem.\n",
            "- The Pursuit of Justice: Inspired by true events, this gripping legal drama follows a determined lawyer's fight against a powerful pharmaceutical company responsible for a life-threatening drug. The courtroom battle becomes a quest for justice and redemption. Starring Denzel Washington, Viola Davis, and Michael B. Jordan.\n",
            "- The Silent Witness: A talented forensic pathologist becomes entangled in a high-stakes murder investigation when she discovers crucial evidence that points to a powerful criminal network. With her life on the line, she must outsmart the perpetrators. Starring Emily Blunt, Jake Gyllenhaal, and Mark Ruffalo.\n",
            "- A Symphony of Souls: Set against the backdrop of a renowned symphony orchestra, this emotionally charged drama explores the lives and intertwining stories of its\n"
          ]
        }
      ]
    },
    {
      "cell_type": "markdown",
      "source": [
        "Prompt Chaining"
      ],
      "metadata": {
        "id": "kT15jd8yoqFA"
      }
    },
    {
      "cell_type": "code",
      "source": [
        "# Prompt 1: step by step reasoning (provided above)\n",
        "# Prompt 2: extract only the final response we will send to the user\n",
        "\n",
        "system_message_2 = \"\"\"\n",
        "You will be given a list of steps that a model has responded with. Your task is to extract only the full response in Step 4 from the following text: {movie_recommendation_response}\n",
        "\n",
        "Step 4:\n",
        "\"\"\"\n",
        "\n",
        "messages = [\n",
        "    {\n",
        "        \"role\": \"system\",\n",
        "        \"content\": system_message_2.format(movie_recommendation_response=movie_recommendation_response)\n",
        "    }\n",
        "]\n",
        "\n",
        "final_response = get_completion(messages, temperature=0)\n",
        "\n",
        "print(final_response)"
      ],
      "metadata": {
        "colab": {
          "base_uri": "https://localhost:8080/"
        },
        "id": "mVLPkOfuospC",
        "outputId": "3e946b61-a0af-4f96-c907-84417aad6877"
      },
      "execution_count": 8,
      "outputs": [
        {
          "output_type": "stream",
          "name": "stdout",
          "text": [
            "Based on your request for drama movies, I recommend the following options:\n",
            "- The Enigma Code: Set during World War II, this gripping historical drama follows the life of Alan Turing, a brilliant mathematician tasked with cracking the Enigma code used by the Nazis. His efforts contribute significantly to the Allies' victory. Starring Benedict Cumberbatch, Keira Knightley, and Matthew Goode.\n",
            "- La Casa del Tango: In the vibrant world of Buenos Aires, a passionate tango dancer finds love and inspiration amidst the backdrop of political unrest. This musical drama explores the power of dance and the pursuit of dreams. Starring Antonio Banderas, Penélope Cruz, and Javier Bardem.\n",
            "- The Pursuit of Justice: Inspired by true events, this gripping legal drama follows a determined lawyer's fight against a powerful pharmaceutical company responsible for a life-threatening drug. The courtroom battle becomes a quest for justice and redemption. Starring Denzel Washington, Viola Davis, and Michael B. Jordan.\n",
            "- The Silent Witness: A talented forensic pathologist becomes entangled in a high-stakes murder investigation when she discovers crucial evidence that points to a powerful criminal network. With her life on the line, she must outsmart the perpetrators. Starring Emily Blunt, Jake Gyllenhaal, and Mark Ruffalo.\n",
            "- A Symphony of Souls: Set against the backdrop of a renowned symphony orchestra, this emotionally charged drama explores the lives and intertwining stories of its characters. St\n"
          ]
        }
      ]
    },
    {
      "cell_type": "markdown",
      "source": [
        "ReAct"
      ],
      "metadata": {
        "id": "9ix8yz-cpGaA"
      }
    },
    {
      "cell_type": "code",
      "source": [
        "from langchain.agents import load_tools\n",
        "from langchain.agents import AgentType\n",
        "from langchain.llms import OpenAI\n",
        "from langchain.agents import initialize_agent\n",
        "\n",
        "os.environ['OPENAI_API_KEY'] = \"sk-\"\n",
        "os.environ[\"SERPAPI_API_KEY\"] = \"\""
      ],
      "metadata": {
        "id": "yYjFxkxnpHie"
      },
      "execution_count": 9,
      "outputs": []
    },
    {
      "cell_type": "code",
      "source": [
        "llm = OpenAI(temperature=0)\n",
        "\n",
        "# tools\n",
        "tools = load_tools([\"serpapi\", \"llm-math\"], llm=llm)\n",
        "agent = initialize_agent(tools, llm , agent=AgentType.ZERO_SHOT_REACT_DESCRIPTION, verbose=True)"
      ],
      "metadata": {
        "id": "INF_v_JC4zR_"
      },
      "execution_count": 10,
      "outputs": []
    },
    {
      "cell_type": "code",
      "source": [
        "agent.run(\"Which team won the 2023 cricket world cup finals?\")"
      ],
      "metadata": {
        "colab": {
          "base_uri": "https://localhost:8080/",
          "height": 316
        },
        "id": "KN0yy_uH43KY",
        "outputId": "e6eab807-1fcb-44c1-cfc7-6010def3131e"
      },
      "execution_count": 11,
      "outputs": [
        {
          "output_type": "stream",
          "name": "stdout",
          "text": [
            "\n",
            "\n",
            "\u001b[1m> Entering new AgentExecutor chain...\u001b[0m\n",
            "\u001b[32;1m\u001b[1;3m I should search for the answer using a search engine.\n",
            "Action: Search\n",
            "Action Input: \"2023 cricket world cup finals winner\"\u001b[0m\n",
            "Observation: \u001b[36;1m\u001b[1;3mAustralian Men’s Cricket Team\u001b[0m\n",
            "Thought:\u001b[32;1m\u001b[1;3m I should double check the information to make sure it is accurate.\n",
            "Action: Search\n",
            "Action Input: \"2023 cricket world cup finals winner\"\u001b[0m\n",
            "Observation: \u001b[36;1m\u001b[1;3mAustralian Men’s Cricket Team\u001b[0m\n",
            "Thought:\u001b[32;1m\u001b[1;3m I now know the final answer.\n",
            "Final Answer: The Australian Men’s Cricket Team won the 2023 cricket world cup finals.\u001b[0m\n",
            "\n",
            "\u001b[1m> Finished chain.\u001b[0m\n"
          ]
        },
        {
          "output_type": "execute_result",
          "data": {
            "text/plain": [
              "'The Australian Men’s Cricket Team won the 2023 cricket world cup finals.'"
            ],
            "application/vnd.google.colaboratory.intrinsic+json": {
              "type": "string"
            }
          },
          "metadata": {},
          "execution_count": 11
        }
      ]
    },
    {
      "cell_type": "markdown",
      "source": [
        "RAG / Data Augmentation"
      ],
      "metadata": {
        "id": "Gp8Ppvam5Alz"
      }
    },
    {
      "cell_type": "code",
      "source": [
        "from langchain.embeddings.openai import OpenAIEmbeddings\n",
        "from langchain.embeddings.cohere import CohereEmbeddings\n",
        "from langchain.text_splitter import CharacterTextSplitter\n",
        "from langchain.vectorstores.elastic_vector_search import ElasticVectorSearch\n",
        "\n",
        "from langchain.vectorstores import Chroma\n",
        "from langchain.prompts import PromptTemplate\n",
        "from langchain.docstore.document import Document\n",
        "\n",
        "from langchain.chains.qa_with_sources import load_qa_with_sources_chain\n",
        "from langchain.llms import OpenAI"
      ],
      "metadata": {
        "id": "Kdij1Jsn5E28"
      },
      "execution_count": 15,
      "outputs": []
    },
    {
      "cell_type": "code",
      "source": [
        "import urllib\n",
        "f = urllib.request.urlopen(\"https://raw.githubusercontent.com/comet-ml/comet-llmops/main/data/kar-gpt.txt\")\n",
        "text_data = f.read().decode(\"utf-8\")\n",
        "\n",
        "text_splitter = CharacterTextSplitter(chunk_size=1000, chunk_overlap=0, separator=\" \")\n",
        "texts = text_splitter.split_text(text_data)\n",
        "\n",
        "embeddings = OpenAIEmbeddings()"
      ],
      "metadata": {
        "id": "Vw6BtZZ56SeR"
      },
      "execution_count": 16,
      "outputs": []
    },
    {
      "cell_type": "code",
      "source": [
        "docsearch = Chroma.from_texts(texts, embeddings, metadatas=[{\"source\": str(i)} for i in range(len(texts))])\n",
        "\n",
        "query = \"What is the course about?\"\n",
        "docs = docsearch.similarity_search(query)\n",
        "\n",
        "chain = load_qa_with_sources_chain(OpenAI(temperature=0), chain_type=\"stuff\")\n",
        "chain({\"input_documents\": docs, \"question\": query}, return_only_outputs=True)"
      ],
      "metadata": {
        "colab": {
          "base_uri": "https://localhost:8080/"
        },
        "id": "5oyU8gDh6WbA",
        "outputId": "d36bdb2f-9126-4cee-ac18-1718ebefe5b3"
      },
      "execution_count": 17,
      "outputs": [
        {
          "output_type": "execute_result",
          "data": {
            "text/plain": [
              "{'output_text': ' The course is about training language models, specifically the transformer neural network, using Python and basic understanding of calculus and statistics. It also includes a code base and notebook for training models like GPT3. \\nSOURCES: 108, 1, 107, 7'}"
            ]
          },
          "metadata": {},
          "execution_count": 17
        }
      ]
    },
    {
      "cell_type": "code",
      "source": [],
      "metadata": {
        "id": "f_02zutZ6ZCZ"
      },
      "execution_count": null,
      "outputs": []
    }
  ]
}