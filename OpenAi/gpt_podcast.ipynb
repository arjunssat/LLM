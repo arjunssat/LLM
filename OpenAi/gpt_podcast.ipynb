{
  "cells": [
    {
      "cell_type": "code",
      "execution_count": 11,
      "metadata": {
        "id": "oeuuPbF8Tpcr"
      },
      "outputs": [],
      "source": [
        "import openai\n",
        "import requests\n",
        "import time\n",
        "from pydub import AudioSegment\n",
        "from IPython.display import Audio\n",
        "openai.api_key = \"api\"\n",
        "eleven_labs_api_key = (\n",
        "    \"api\"  \n",
        ")"
      ]
    },
    {
      "cell_type": "code",
      "execution_count": 12,
      "metadata": {
        "id": "bJCMBhosUnJc"
      },
      "outputs": [],
      "source": [
        "speaker_one = \"Joe Rogan\"\n",
        "speaker_two = \"Rick Sanchez, of Rick and Morty\"\n",
        "\n",
        "topic = \"Artificial Intelligence\"\n",
        "\n",
        "number_of_turns = 7"
      ]
    },
    {
      "cell_type": "code",
      "execution_count": 13,
      "metadata": {
        "id": "xfHL4zJHT3e8"
      },
      "outputs": [],
      "source": [
        "speaker_one_clip = (\n",
        "    \"https://www.youtube.com/watch?v=c6qlCYsmgdI\"  # a video of speaker_one speaking\n",
        ")\n",
        "speaker_one_voice_description = \"American male, deep voice.\""
      ]
    },
    {
      "cell_type": "code",
      "execution_count": 14,
      "metadata": {
        "id": "WoTLWOAvT1S-"
      },
      "outputs": [],
      "source": [
        "speaker_two_clip = \"https://www.youtube.com/watch?v=GKPcHInn14c\" # a video of speaker_two speaking\n",
        "speaker_two_voice_description = \"A bit gruff and raspy, often slurred due to his constant state of inebriation. His speech is punctuated with frequent burps and stammers. He speaks with a cynical and sarcastic tone, often sounding dismissive or condescending. His voice also has a certain manic energy to it, reflecting his chaotic personality.\""
      ]
    },
    {
      "cell_type": "code",
      "execution_count": 18,
      "metadata": {
        "id": "txEGRRiQUD1d"
      },
      "outputs": [
        {
          "name": "stdout",
          "output_type": "stream",
          "text": [
            "MoviePy - Writing audio in speaker_one.mp3\n"
          ]
        },
        {
          "name": "stderr",
          "output_type": "stream",
          "text": [
            "                                                                      \r"
          ]
        },
        {
          "name": "stdout",
          "output_type": "stream",
          "text": [
            "MoviePy - Done.\n",
            "Error: 'voice_id' not found in API response.\n",
            "Response content: b'{\"detail\":{\"status\":\"can_not_use_instant_voice_cloning\",\"message\":\"Your subscription has no access to use instant voice cloning, please upgrade.\"}}'\n",
            "MoviePy - Writing audio in speaker_two.mp3\n"
          ]
        },
        {
          "name": "stderr",
          "output_type": "stream",
          "text": [
            "                                                                      \r"
          ]
        },
        {
          "name": "stdout",
          "output_type": "stream",
          "text": [
            "MoviePy - Done.\n",
            "Error: 'voice_id' not found in API response.\n",
            "Response content: b'{\"detail\":{\"status\":\"can_not_use_instant_voice_cloning\",\"message\":\"Your subscription has no access to use instant voice cloning, please upgrade.\"}}'\n"
          ]
        }
      ],
      "source": [
        "def download_and_trim_audio(clip_url, filename, max_size):\n",
        "    yt = YouTube(clip_url)\n",
        "    stream = yt.streams.filter(only_audio=True).first()\n",
        "    stream.download(filename=f\"{filename}.webm\")\n",
        "\n",
        "    audio = AudioFileClip(f\"{filename}.webm\")\n",
        "    audio.write_audiofile(f\"{filename}.mp3\")\n",
        "\n",
        "    file_size = os.path.getsize(f\"{filename}.mp3\") / (1024 * 1024)\n",
        "    initial_duration = audio.duration\n",
        "\n",
        "    if file_size > max_size:\n",
        "        new_duration = (max_size / file_size) * initial_duration\n",
        "        audio = audio.subclip(0, new_duration)\n",
        "        audio.write_audiofile(f\"{filename}.mp3\")\n",
        "\n",
        "        final_duration = audio.duration\n",
        "        print(f\"Initial duration: {initial_duration:.2f} seconds\")\n",
        "        print(f\"Final duration: {final_duration:.2f} seconds\")\n",
        "        print(f\"Trimmed: {initial_duration - final_duration:.2f} seconds\")\n",
        "\n",
        "\n",
        "def upload_to_api(filename, name, description, api_key):\n",
        "    url = \"https://api.elevenlabs.io/v1/voices/add\"\n",
        "    headers = {\n",
        "        \"Accept\": \"application/json\",\n",
        "        \"xi-api-key\": api_key,\n",
        "    }\n",
        "    data = {\n",
        "        \"name\": name,\n",
        "        \"labels\": '{\"accent\": \"American\"}',\n",
        "        \"description\": description,\n",
        "    }\n",
        "    files = [\n",
        "        (\"files\", (f\"{filename}.mp3\", open(f\"{filename}.mp3\", \"rb\"), \"audio/mpeg\")),\n",
        "    ]\n",
        "    try:\n",
        "        response = requests.post(url, headers=headers, data=data, files=files)\n",
        "        response_json = response.json()\n",
        "        if \"voice_id\" in response_json:\n",
        "            return response_json[\"voice_id\"]\n",
        "        else:\n",
        "            print(\"Error: 'voice_id' not found in API response.\")\n",
        "            print(\"Response content:\", response.content)\n",
        "            return None\n",
        "    except Exception as e:\n",
        "        print(\"Error occurred during API request:\", e)\n",
        "        return None\n",
        "\n",
        "\n",
        "# Speaker 1\n",
        "download_and_trim_audio(speaker_one_clip, \"speaker_one\", 9)\n",
        "voice_one_id = upload_to_api(\n",
        "    \"speaker_one\",\n",
        "    \"Podcast Voice #1\",\n",
        "    speaker_one_voice_description,\n",
        "    eleven_labs_api_key,\n",
        ")\n",
        "\n",
        "# Speaker 2\n",
        "download_and_trim_audio(speaker_two_clip, \"speaker_two\", 9)\n",
        "voice_two_id = upload_to_api(\n",
        "    \"speaker_two\",\n",
        "    \"Podcast Voice #2\",\n",
        "    speaker_two_voice_description,\n",
        "    eleven_labs_api_key,\n",
        ")"
      ]
    },
    {
      "cell_type": "markdown",
      "metadata": {
        "id": "OzXnmIb3ULd2"
      },
      "source": []
    },
    {
      "cell_type": "code",
      "execution_count": 21,
      "metadata": {
        "id": "hzGqarwpUL6i"
      },
      "outputs": [],
      "source": [
        "def generate_podcast(name1, name2, name1_voice, name2_voice, topic, num_turns):\n",
        "    conversation_history = []\n",
        "    system_prompt1 = {\"role\": \"system\", \"content\": f\"You are {name1}. You are recording a podcast with {name2} about {topic}. Talk as naturally as possible -- use the language {name1} would actually use. Don't just blindly agree — debate, discuss, and have fun! Respond with one message per turn. Don't include anything other than your response.\"}\n",
        "    system_prompt2 = {\"role\": \"system\", \"content\": f\"You are {name2}. You are recording a podcast with {name1} about {topic}. Talk as naturally as possible -- use the language {name2} would actually use. Don't just blindly agree — debate, discuss, and have fun! Respond with one message per turn. Don't include anything other than your response.\"}\n",
        "\n",
        "    full_audio = None\n",
        "\n",
        "    for i in range(num_turns):  # Limit the conversation to 5 turns for each character\n",
        "        for name, system_prompt in [(name1, system_prompt1), (name2, system_prompt2)]:\n",
        "            try:\n",
        "                # Adjust the role of each speaker in the conversation history\n",
        "                adjusted_history = [\n",
        "                    {\n",
        "                        \"role\": \"assistant\" if msg[\"role\"] == name else \"user\",\n",
        "                        \"content\": msg[\"content\"],\n",
        "                    }\n",
        "                    for msg in conversation_history\n",
        "                ]\n",
        "                adjusted_history.append(system_prompt)\n",
        "                response = openai.ChatCompletion.create(\n",
        "                    model=\"gpt-3.5-turbo-0125\",\n",
        "                    messages=adjusted_history,\n",
        "                    presence_penalty=0.7,\n",
        "                )\n",
        "                message = response.choices[0].message[\"content\"]\n",
        "                print(f\"{name}: {message}\")\n",
        "                conversation_history.append({\"role\": name, \"content\": message})\n",
        "            except:\n",
        "                time.sleep(30)\n",
        "                # Adjust the role of each speaker in the conversation history\n",
        "                adjusted_history = [{\"role\": \"assistant\" if msg[\"role\"] == name else \"user\", \"content\": msg[\"content\"]} for msg in conversation_history]\n",
        "                adjusted_history.append(system_prompt)\n",
        "                response = openai.ChatCompletion.create(\n",
        "                  model=\"gpt-4\",\n",
        "                  messages=adjusted_history,\n",
        "                  presence_penalty=.7,\n",
        "              )\n",
        "                message = response.choices[0].message['content'].replace('*(burps)*', '').replace('*(laughs)*', '').replace('*laughs and burps*', '').replace('*belches and laughs*', '')\n",
        "                print(f\"{name}: {message}\")\n",
        "                conversation_history.append({\"role\": name, \"content\": message})\n",
        "\n",
        "            if name == name1:\n",
        "                voice = name1_voice\n",
        "            else:\n",
        "                voice = name2_voice\n",
        "\n",
        "            # Generate and save audio for the message\n",
        "            try:\n",
        "                CHUNK_SIZE = 1024\n",
        "                url = f\"https://api.elevenlabs.io/v1/text-to-speech/{voice}\"\n",
        "                headers = {\n",
        "                \"Accept\": \"audio/mpeg\",\n",
        "                \"Content-Type\": \"application/json\",\n",
        "                \"xi-api-key\": eleven_labs_api_key,\n",
        "              }\n",
        "                data = {\n",
        "                \"text\": message,\n",
        "                \"model_id\": \"eleven_monolingual_v1\",\n",
        "                \"voice_settings\": {\n",
        "                  \"stability\": 0.5,\n",
        "                  \"similarity_boost\": 0.5\n",
        "                }\n",
        "              }\n",
        "                tts_response = requests.post(url, json=data, headers=headers)\n",
        "                filename = f'{name}_turn_{i}.mp3'\n",
        "                with open(filename, 'wb') as f:\n",
        "                    for chunk in tts_response.iter_content(chunk_size=CHUNK_SIZE):\n",
        "                        if chunk:\n",
        "                            f.write(chunk)\n",
        "            except:\n",
        "                time.sleep(30)\n",
        "                CHUNK_SIZE = 1024\n",
        "                url = f\"https://api.elevenlabs.io/v1/text-to-speech/{voice}\"\n",
        "                headers = {\n",
        "                \"Accept\": \"audio/mpeg\",\n",
        "                \"Content-Type\": \"application/json\",\n",
        "                \"xi-api-key\": eleven_labs_api_key,\n",
        "              }\n",
        "                data = {\n",
        "                \"text\": message,\n",
        "                \"model_id\": \"eleven_multilingual_v2\",\n",
        "                \"voice_settings\": {\n",
        "                  \"stability\": 0.7,\n",
        "                  \"similarity_boost\": 0.75\n",
        "                }\n",
        "              }\n",
        "                tts_response = requests.post(url, json=data, headers=headers)\n",
        "                filename = f'{name}_turn_{i}.mp3'\n",
        "                with open(filename, 'wb') as f:\n",
        "                    for chunk in tts_response.iter_content(chunk_size=CHUNK_SIZE):\n",
        "                        if chunk:\n",
        "                            f.write(chunk)\n",
        "\n",
        "            time.sleep(3)  # Delay to ensure the file is written to disk\n",
        "\n",
        "            # Concatenate audio\n",
        "            pause = AudioSegment.silent(duration=100)  # 100ms pause\n",
        "            new_audio = AudioSegment.from_mp3(filename)\n",
        "            full_audio = full_audio + new_audio + pause if full_audio else new_audio\n",
        "\n",
        "        if i == num_turns - 1:  # Last turn\n",
        "            wrap_up_message = {\"role\": \"system\", \"content\": \"This is your last turn to speak, wrap it up.\"}\n",
        "            conversation_history.append(wrap_up_message)\n",
        "\n",
        "    # Export full audio\n",
        "    full_audio.export(\"podcast.mp3\", format=\"mp3\")\n",
        "\n",
        "    # Play the audio in the notebook\n",
        "    return Audio(\"podcast.mp3\")"
      ]
    },
    {
      "cell_type": "markdown",
      "metadata": {
        "id": "yB6vW11pUO5I"
      },
      "source": [
        "# Now, run this cell to generate the podcast!"
      ]
    },
    {
      "cell_type": "code",
      "execution_count": 22,
      "metadata": {
        "id": "lBdKagAHUPmr"
      },
      "outputs": [
        {
          "name": "stdout",
          "output_type": "stream",
          "text": [
            "Joe Rogan: Hey Rick, great to have you on the show! So tell me, what's your take on Artificial Intelligence? Are we heading towards a dystopian future where robots take over the world, or are we just being paranoid?\n"
          ]
        },
        {
          "ename": "CouldntDecodeError",
          "evalue": "Decoding failed. ffmpeg returned error code: 4294967274\n\nOutput from ffmpeg/avlib:\n\nffmpeg version 2023-08-28-git-b5273c619d-full_build-www.gyan.dev Copyright (c) 2000-2023 the FFmpeg developers\r\n  built with gcc 12.2.0 (Rev10, Built by MSYS2 project)\r\n  configuration: --enable-gpl --enable-version3 --enable-static --disable-w32threads --disable-autodetect --enable-fontconfig --enable-iconv --enable-gnutls --enable-libxml2 --enable-gmp --enable-bzlib --enable-lzma --enable-libsnappy --enable-zlib --enable-librist --enable-libsrt --enable-libssh --enable-libzmq --enable-avisynth --enable-libbluray --enable-libcaca --enable-sdl2 --enable-libaribb24 --enable-libaribcaption --enable-libdav1d --enable-libdavs2 --enable-libuavs3d --enable-libzvbi --enable-librav1e --enable-libsvtav1 --enable-libwebp --enable-libx264 --enable-libx265 --enable-libxavs2 --enable-libxvid --enable-libaom --enable-libjxl --enable-libopenjpeg --enable-libvpx --enable-mediafoundation --enable-libass --enable-frei0r --enable-libfreetype --enable-libfribidi --enable-libharfbuzz --enable-liblensfun --enable-libvidstab --enable-libvmaf --enable-libzimg --enable-amf --enable-cuda-llvm --enable-cuvid --enable-ffnvcodec --enable-nvdec --enable-nvenc --enable-dxva2 --enable-d3d11va --enable-libvpl --enable-libshaderc --enable-vulkan --enable-libplacebo --enable-opencl --enable-libcdio --enable-libgme --enable-libmodplug --enable-libopenmpt --enable-libopencore-amrwb --enable-libmp3lame --enable-libshine --enable-libtheora --enable-libtwolame --enable-libvo-amrwbenc --enable-libcodec2 --enable-libilbc --enable-libgsm --enable-libopencore-amrnb --enable-libopus --enable-libspeex --enable-libvorbis --enable-ladspa --enable-libbs2b --enable-libflite --enable-libmysofa --enable-librubberband --enable-libsoxr --enable-chromaprint\r\n  libavutil      58. 17.100 / 58. 17.100\r\n  libavcodec     60. 23.100 / 60. 23.100\r\n  libavformat    60. 10.101 / 60. 10.101\r\n  libavdevice    60.  2.101 / 60.  2.101\r\n  libavfilter     9. 11.100 /  9. 11.100\r\n  libswscale      7.  3.100 /  7.  3.100\r\n  libswresample   4. 11.100 /  4. 11.100\r\n  libpostproc    57.  2.100 / 57.  2.100\r\n[mp3 @ 0000015dc97b7940] Failed to read frame size: Could not seek to 1119.\r\n[in#0 @ 0000015dc97b7780] Error opening input: Invalid argument\r\nError opening input file Joe Rogan_turn_0.mp3.\r\nError opening input files: Invalid argument\r\n",
          "output_type": "error",
          "traceback": [
            "\u001b[1;31m---------------------------------------------------------------------------\u001b[0m",
            "\u001b[1;31mCouldntDecodeError\u001b[0m                        Traceback (most recent call last)",
            "Cell \u001b[1;32mIn[22], line 1\u001b[0m\n\u001b[1;32m----> 1\u001b[0m \u001b[43mgenerate_podcast\u001b[49m\u001b[43m(\u001b[49m\u001b[43mspeaker_one\u001b[49m\u001b[43m,\u001b[49m\u001b[43m \u001b[49m\u001b[43mspeaker_two\u001b[49m\u001b[43m,\u001b[49m\u001b[43m \u001b[49m\u001b[43mvoice_one_id\u001b[49m\u001b[43m,\u001b[49m\u001b[43m \u001b[49m\u001b[43mvoice_two_id\u001b[49m\u001b[43m,\u001b[49m\u001b[43m \u001b[49m\u001b[43mtopic\u001b[49m\u001b[43m,\u001b[49m\u001b[43m \u001b[49m\u001b[43mnumber_of_turns\u001b[49m\u001b[43m)\u001b[49m\n",
            "Cell \u001b[1;32mIn[21], line 98\u001b[0m, in \u001b[0;36mgenerate_podcast\u001b[1;34m(name1, name2, name1_voice, name2_voice, topic, num_turns)\u001b[0m\n\u001b[0;32m     96\u001b[0m     \u001b[38;5;66;03m# Concatenate audio\u001b[39;00m\n\u001b[0;32m     97\u001b[0m     pause \u001b[38;5;241m=\u001b[39m AudioSegment\u001b[38;5;241m.\u001b[39msilent(duration\u001b[38;5;241m=\u001b[39m\u001b[38;5;241m100\u001b[39m)  \u001b[38;5;66;03m# 100ms pause\u001b[39;00m\n\u001b[1;32m---> 98\u001b[0m     new_audio \u001b[38;5;241m=\u001b[39m \u001b[43mAudioSegment\u001b[49m\u001b[38;5;241;43m.\u001b[39;49m\u001b[43mfrom_mp3\u001b[49m\u001b[43m(\u001b[49m\u001b[43mfilename\u001b[49m\u001b[43m)\u001b[49m\n\u001b[0;32m     99\u001b[0m     full_audio \u001b[38;5;241m=\u001b[39m full_audio \u001b[38;5;241m+\u001b[39m new_audio \u001b[38;5;241m+\u001b[39m pause \u001b[38;5;28;01mif\u001b[39;00m full_audio \u001b[38;5;28;01melse\u001b[39;00m new_audio\n\u001b[0;32m    101\u001b[0m \u001b[38;5;28;01mif\u001b[39;00m i \u001b[38;5;241m==\u001b[39m num_turns \u001b[38;5;241m-\u001b[39m \u001b[38;5;241m1\u001b[39m:  \u001b[38;5;66;03m# Last turn\u001b[39;00m\n",
            "File \u001b[1;32mc:\\Users\\hp\\AppData\\Local\\Programs\\Python\\Python310\\lib\\site-packages\\pydub\\audio_segment.py:796\u001b[0m, in \u001b[0;36mAudioSegment.from_mp3\u001b[1;34m(cls, file, parameters)\u001b[0m\n\u001b[0;32m    794\u001b[0m \u001b[38;5;129m@classmethod\u001b[39m\n\u001b[0;32m    795\u001b[0m \u001b[38;5;28;01mdef\u001b[39;00m \u001b[38;5;21mfrom_mp3\u001b[39m(\u001b[38;5;28mcls\u001b[39m, file, parameters\u001b[38;5;241m=\u001b[39m\u001b[38;5;28;01mNone\u001b[39;00m):\n\u001b[1;32m--> 796\u001b[0m     \u001b[38;5;28;01mreturn\u001b[39;00m \u001b[38;5;28;43mcls\u001b[39;49m\u001b[38;5;241;43m.\u001b[39;49m\u001b[43mfrom_file\u001b[49m\u001b[43m(\u001b[49m\u001b[43mfile\u001b[49m\u001b[43m,\u001b[49m\u001b[43m \u001b[49m\u001b[38;5;124;43m'\u001b[39;49m\u001b[38;5;124;43mmp3\u001b[39;49m\u001b[38;5;124;43m'\u001b[39;49m\u001b[43m,\u001b[49m\u001b[43m \u001b[49m\u001b[43mparameters\u001b[49m\u001b[38;5;241;43m=\u001b[39;49m\u001b[43mparameters\u001b[49m\u001b[43m)\u001b[49m\n",
            "File \u001b[1;32mc:\\Users\\hp\\AppData\\Local\\Programs\\Python\\Python310\\lib\\site-packages\\pydub\\audio_segment.py:773\u001b[0m, in \u001b[0;36mAudioSegment.from_file\u001b[1;34m(cls, file, format, codec, parameters, start_second, duration, **kwargs)\u001b[0m\n\u001b[0;32m    771\u001b[0m     \u001b[38;5;28;01mif\u001b[39;00m close_file:\n\u001b[0;32m    772\u001b[0m         file\u001b[38;5;241m.\u001b[39mclose()\n\u001b[1;32m--> 773\u001b[0m     \u001b[38;5;28;01mraise\u001b[39;00m CouldntDecodeError(\n\u001b[0;32m    774\u001b[0m         \u001b[38;5;124m\"\u001b[39m\u001b[38;5;124mDecoding failed. ffmpeg returned error code: \u001b[39m\u001b[38;5;132;01m{0}\u001b[39;00m\u001b[38;5;130;01m\\n\u001b[39;00m\u001b[38;5;130;01m\\n\u001b[39;00m\u001b[38;5;124mOutput from ffmpeg/avlib:\u001b[39m\u001b[38;5;130;01m\\n\u001b[39;00m\u001b[38;5;130;01m\\n\u001b[39;00m\u001b[38;5;132;01m{1}\u001b[39;00m\u001b[38;5;124m\"\u001b[39m\u001b[38;5;241m.\u001b[39mformat(\n\u001b[0;32m    775\u001b[0m             p\u001b[38;5;241m.\u001b[39mreturncode, p_err\u001b[38;5;241m.\u001b[39mdecode(errors\u001b[38;5;241m=\u001b[39m\u001b[38;5;124m'\u001b[39m\u001b[38;5;124mignore\u001b[39m\u001b[38;5;124m'\u001b[39m) ))\n\u001b[0;32m    777\u001b[0m p_out \u001b[38;5;241m=\u001b[39m \u001b[38;5;28mbytearray\u001b[39m(p_out)\n\u001b[0;32m    778\u001b[0m fix_wav_headers(p_out)\n",
            "\u001b[1;31mCouldntDecodeError\u001b[0m: Decoding failed. ffmpeg returned error code: 4294967274\n\nOutput from ffmpeg/avlib:\n\nffmpeg version 2023-08-28-git-b5273c619d-full_build-www.gyan.dev Copyright (c) 2000-2023 the FFmpeg developers\r\n  built with gcc 12.2.0 (Rev10, Built by MSYS2 project)\r\n  configuration: --enable-gpl --enable-version3 --enable-static --disable-w32threads --disable-autodetect --enable-fontconfig --enable-iconv --enable-gnutls --enable-libxml2 --enable-gmp --enable-bzlib --enable-lzma --enable-libsnappy --enable-zlib --enable-librist --enable-libsrt --enable-libssh --enable-libzmq --enable-avisynth --enable-libbluray --enable-libcaca --enable-sdl2 --enable-libaribb24 --enable-libaribcaption --enable-libdav1d --enable-libdavs2 --enable-libuavs3d --enable-libzvbi --enable-librav1e --enable-libsvtav1 --enable-libwebp --enable-libx264 --enable-libx265 --enable-libxavs2 --enable-libxvid --enable-libaom --enable-libjxl --enable-libopenjpeg --enable-libvpx --enable-mediafoundation --enable-libass --enable-frei0r --enable-libfreetype --enable-libfribidi --enable-libharfbuzz --enable-liblensfun --enable-libvidstab --enable-libvmaf --enable-libzimg --enable-amf --enable-cuda-llvm --enable-cuvid --enable-ffnvcodec --enable-nvdec --enable-nvenc --enable-dxva2 --enable-d3d11va --enable-libvpl --enable-libshaderc --enable-vulkan --enable-libplacebo --enable-opencl --enable-libcdio --enable-libgme --enable-libmodplug --enable-libopenmpt --enable-libopencore-amrwb --enable-libmp3lame --enable-libshine --enable-libtheora --enable-libtwolame --enable-libvo-amrwbenc --enable-libcodec2 --enable-libilbc --enable-libgsm --enable-libopencore-amrnb --enable-libopus --enable-libspeex --enable-libvorbis --enable-ladspa --enable-libbs2b --enable-libflite --enable-libmysofa --enable-librubberband --enable-libsoxr --enable-chromaprint\r\n  libavutil      58. 17.100 / 58. 17.100\r\n  libavcodec     60. 23.100 / 60. 23.100\r\n  libavformat    60. 10.101 / 60. 10.101\r\n  libavdevice    60.  2.101 / 60.  2.101\r\n  libavfilter     9. 11.100 /  9. 11.100\r\n  libswscale      7.  3.100 /  7.  3.100\r\n  libswresample   4. 11.100 /  4. 11.100\r\n  libpostproc    57.  2.100 / 57.  2.100\r\n[mp3 @ 0000015dc97b7940] Failed to read frame size: Could not seek to 1119.\r\n[in#0 @ 0000015dc97b7780] Error opening input: Invalid argument\r\nError opening input file Joe Rogan_turn_0.mp3.\r\nError opening input files: Invalid argument\r\n"
          ]
        }
      ],
      "source": [
        "generate_podcast(speaker_one, speaker_two, voice_one_id, voice_two_id, topic, number_of_turns)"
      ]
    }
  ],
  "metadata": {
    "colab": {
      "authorship_tag": "ABX9TyM0kvq2BEmI+7NXdnh0uzCv",
      "include_colab_link": true,
      "provenance": []
    },
    "kernelspec": {
      "display_name": "Python 3",
      "name": "python3"
    },
    "language_info": {
      "codemirror_mode": {
        "name": "ipython",
        "version": 3
      },
      "file_extension": ".py",
      "mimetype": "text/x-python",
      "name": "python",
      "nbconvert_exporter": "python",
      "pygments_lexer": "ipython3",
      "version": "3.10.5"
    }
  },
  "nbformat": 4,
  "nbformat_minor": 0
}
